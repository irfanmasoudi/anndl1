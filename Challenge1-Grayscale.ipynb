{
 "cells": [
  {
   "cell_type": "code",
   "execution_count": 1,
   "id": "5654ed61-e81d-4eb7-941a-a8b5872e286e",
   "metadata": {},
   "outputs": [
    {
     "name": "stdout",
     "output_type": "stream",
     "text": [
      "2.6.0\n"
     ]
    }
   ],
   "source": [
    "import tensorflow as tf\n",
    "import numpy as np\n",
    "import os\n",
    "import random\n",
    "import pandas as pd\n",
    "import seaborn as sns\n",
    "import matplotlib as mpl\n",
    "import matplotlib.pyplot as plt\n",
    "from sklearn.model_selection import train_test_split\n",
    "from sklearn.metrics import accuracy_score, f1_score, precision_score, recall_score\n",
    "from sklearn.metrics import confusion_matrix\n",
    "from PIL import Image\n",
    "import splitfolders\n",
    "import visualkeras\n",
    "\n",
    "tfk = tf.keras\n",
    "tfkl = tf.keras.layers\n",
    "print(tf.__version__)"
   ]
  },
  {
   "cell_type": "code",
   "execution_count": 2,
   "id": "26a3d493-6a07-4cce-a5d4-c2d3d8140678",
   "metadata": {},
   "outputs": [],
   "source": [
    "# Random seed for reproducibility\n",
    "seed = 42\n",
    "\n",
    "random.seed(seed)\n",
    "os.environ['PYTHONHASHSEED'] = str(seed)\n",
    "np.random.seed(seed)\n",
    "tf.random.set_seed(seed)\n",
    "tf.compat.v1.set_random_seed(seed)"
   ]
  },
  {
   "cell_type": "code",
   "execution_count": 3,
   "id": "0b55d4f0-bc65-43bd-af4f-6f23661e2220",
   "metadata": {},
   "outputs": [
    {
     "name": "stdout",
     "output_type": "stream",
     "text": [
      "/Users/irfanmasudi/ANNDL/Challenge\n"
     ]
    }
   ],
   "source": [
    "%cd /Users/irfanmasudi/ANNDL/Challenge/"
   ]
  },
  {
   "cell_type": "code",
   "execution_count": 4,
   "id": "997f5b41-482e-4730-a661-4484c19b3464",
   "metadata": {},
   "outputs": [],
   "source": [
    "# Dataset folders \n",
    "dataset_dir = 'datasets'\n",
    "training_dir = os.path.join(dataset_dir, 'train')\n",
    "validation_dir = os.path.join(dataset_dir, 'val')\n",
    "#test_dir = os.path.join(dataset_dir, 'test')"
   ]
  },
  {
   "cell_type": "code",
   "execution_count": 5,
   "id": "2da8af89-890a-49d4-a583-65fb21489b6b",
   "metadata": {},
   "outputs": [],
   "source": [
    "# Plot example images from dataset\n",
    "labels = ['Apple',       # 0\n",
    "          'Blueberry',   # 1\n",
    "          'Cherry',      # 2\n",
    "          'Corn',        # 3\n",
    "          'Grape',       # 4\n",
    "          'Orange',      # 5\n",
    "          'Peach',       # 6\n",
    "          'Pepper',      # 7\n",
    "          'Potato',      # 8\n",
    "          'Raspberry',   # 9\n",
    "          'Soybean',     # 10\n",
    "          'Squash',      # 11\n",
    "          'Strawberry',  # 12\n",
    "          'Tomato']      # 13"
   ]
  },
  {
   "cell_type": "code",
   "execution_count": 6,
   "id": "144424cf-3d8a-4073-ae9b-0cdbfcc7e0c7",
   "metadata": {},
   "outputs": [
    {
     "name": "stdout",
     "output_type": "stream",
     "text": [
      "Found 15062 images belonging to 14 classes.\n",
      "Found 2666 images belonging to 14 classes.\n"
     ]
    }
   ],
   "source": [
    "from tensorflow.keras.preprocessing.image import ImageDataGenerator\n",
    "\n",
    "valid_data_gen = ImageDataGenerator(rotation_range=40,\n",
    "                                        height_shift_range=60,\n",
    "                                        width_shift_range=60,\n",
    "                                        zoom_range=0.5,\n",
    "                                        horizontal_flip=True,\n",
    "                                        vertical_flip=True, \n",
    "                                        fill_mode='reflect',\n",
    "                                        rescale=1/255.)\n",
    "\n",
    "# Create an instance of ImageDataGenerator with Data Augmentation\n",
    "aug_train_data_gen = ImageDataGenerator(rotation_range=30,\n",
    "                                        height_shift_range=50,\n",
    "                                        width_shift_range=50,\n",
    "                                        zoom_range=0.3,\n",
    "                                        horizontal_flip=True,\n",
    "                                        vertical_flip=True, \n",
    "                                        fill_mode='reflect',\n",
    "                                        rescale=1/255.) # rescale value is multiplied to the image\n",
    "\n",
    "# Obtain a data generator with the 'ImageDataGenerator.flow_from_directory' method\n",
    "train_gen = aug_train_data_gen.flow_from_directory(directory=training_dir,\n",
    "                                                       target_size=(256,256),\n",
    "                                                       color_mode='grayscale',\n",
    "                                                       classes=None, # can be set to labels\n",
    "                                                       class_mode='categorical',\n",
    "                                                       batch_size=64,\n",
    "                                                       shuffle=True,\n",
    "                                                       seed=seed)\n",
    "\n",
    "valid_gen = valid_data_gen.flow_from_directory(directory=validation_dir,\n",
    "                                               target_size=(256,256),\n",
    "                                               color_mode='grayscale',\n",
    "                                               classes=None, # can be set to labels\n",
    "                                               class_mode='categorical',\n",
    "                                               batch_size=64,\n",
    "                                               shuffle=False,\n",
    "                                               seed=seed)"
   ]
  },
  {
   "cell_type": "code",
   "execution_count": 7,
   "id": "9b711fb2-2796-4e58-95b0-61d7b2ef6607",
   "metadata": {},
   "outputs": [],
   "source": [
    "def get_next_batch(generator):\n",
    "    batch = next(generator)\n",
    "\n",
    "    image = batch[0]\n",
    "    target = batch[1]\n",
    "\n",
    "    print(\"(Input) image shape:\", image.shape)\n",
    "    print(\"Target shape:\",target.shape)\n",
    "\n",
    "    # Visualize only the first sample\n",
    "    image = image[0]\n",
    "    target = target[0]\n",
    "    target_idx = np.argmax(target)\n",
    "    print()\n",
    "    print(\"Categorical label:\", target)\n",
    "    print(\"Label:\", target_idx)\n",
    "    print(\"Class name:\", labels[target_idx])\n",
    "    \n",
    "    fig = plt.figure(figsize=(6, 4))\n",
    "    plt.imshow(np.uint8(image))\n",
    "    plt.show()\n",
    "    \n",
    "    return batch"
   ]
  },
  {
   "cell_type": "code",
   "execution_count": 8,
   "id": "2515b869-3088-4bf2-a3dd-8b4bca87ff30",
   "metadata": {},
   "outputs": [
    {
     "name": "stdout",
     "output_type": "stream",
     "text": [
      "(Input) image shape: (64, 256, 256, 1)\n",
      "Target shape: (64, 14)\n",
      "\n",
      "Categorical label: [0. 0. 0. 0. 0. 0. 0. 0. 0. 0. 0. 0. 0. 1.]\n",
      "Label: 13\n",
      "Class name: Tomato\n"
     ]
    },
    {
     "data": {
      "image/png": "[encoded data removed]",
      "text/plain": [
       "<Figure size 600x400 with 1 Axes>"
      ]
     },
     "metadata": {},
     "output_type": "display_data"
    }
   ],
   "source": [
    "# Get a sample from dataset and show info\n",
    "_ = get_next_batch(train_gen)"
   ]
  },
  {
   "cell_type": "code",
   "execution_count": 9,
   "id": "90784e78-52a8-43ab-988a-2b5c43a3f737",
   "metadata": {},
   "outputs": [
    {
     "data": {
      "text/plain": [
       "{0: 1.282308871105057,\n",
       " 1: 2.716810966810967,\n",
       " 2: 2.1734487734487735,\n",
       " 3: 1.049616724738676,\n",
       " 4: 0.8683269918136747,\n",
       " 5: 0.7244829244829245,\n",
       " 6: 1.2962134251290878,\n",
       " 7: 1.6551648351648351,\n",
       " 8: 1.769501879699248,\n",
       " 9: 4.802933673469388,\n",
       " 10: 0.7835813130787639,\n",
       " 11: 2.2091522440598417,\n",
       " 12: 1.8808691308691308,\n",
       " 13: 0.22233046969562778}"
      ]
     },
     "execution_count": 9,
     "metadata": {},
     "output_type": "execute_result"
    }
   ],
   "source": [
    "from sklearn.utils import compute_class_weight\n",
    "\n",
    "class_weights = compute_class_weight(class_weight = \"balanced\",\n",
    "                                     classes = np.unique(train_gen.classes),\n",
    "                                     y = train_gen.classes                                                    \n",
    "                                    )\n",
    "class_weights = dict(zip(np.unique(train_gen.classes), class_weights))\n",
    "class_weights"
   ]
  },
  {
   "cell_type": "code",
   "execution_count": 10,
   "id": "e650f6ca-76d4-4c01-b10a-11c9701f24c7",
   "metadata": {
    "tags": []
   },
   "outputs": [
    {
     "name": "stdout",
     "output_type": "stream",
     "text": [
      "Assigned labels\n",
      "{'Apple': 0, 'Blueberry': 1, 'Cherry': 2, 'Corn': 3, 'Grape': 4, 'Orange': 5, 'Peach': 6, 'Pepper': 7, 'Potato': 8, 'Raspberry': 9, 'Soybean': 10, 'Squash': 11, 'Strawberry': 12, 'Tomato': 13}\n",
      "\n",
      "Target classes\n",
      "[ 0  0  0 ... 13 13 13]\n"
     ]
    }
   ],
   "source": [
    "print(\"Assigned labels\")\n",
    "print(train_gen.class_indices)\n",
    "print()\n",
    "print(\"Target classes\")\n",
    "print(train_gen.classes)"
   ]
  },
  {
   "cell_type": "code",
   "execution_count": 11,
   "id": "eb45aebb-bb1d-4fe0-98c4-c64d7dc8ead4",
   "metadata": {
    "tags": []
   },
   "outputs": [],
   "source": [
    "input_shape = (256, 256, 1)\n",
    "epochs = 200"
   ]
  },
  {
   "cell_type": "code",
   "execution_count": 12,
   "id": "893d1940-01dc-4826-8f70-f84294ed1ced",
   "metadata": {},
   "outputs": [],
   "source": [
    "METRICS = [\n",
    "      tfk.metrics.TruePositives(name='tp'),\n",
    "      tfk.metrics.FalsePositives(name='fp'),\n",
    "      tfk.metrics.TrueNegatives(name='tn'),\n",
    "      tfk.metrics.FalseNegatives(name='fn'), \n",
    "      tfk.metrics.BinaryAccuracy(name='accuracy'),\n",
    "      tfk.metrics.Precision(name='precision'),\n",
    "      tfk.metrics.Recall(name='recall'),\n",
    "      tfk.metrics.AUC(name='auc'),\n",
    "]"
   ]
  },
  {
   "cell_type": "code",
   "execution_count": 13,
   "id": "be8a85e8-f90f-48e8-9b5e-aff88147c6f5",
   "metadata": {
    "tags": []
   },
   "outputs": [],
   "source": [
    "# Model used for the exercise:\n",
    "# (Conv + ReLU + MaxPool) x 5 + FC x 2\n",
    "def build_model(input_shape):\n",
    "\n",
    "    # Build the neural network layer by layer\n",
    "    input_layer = tfkl.Input(shape=input_shape, name='Input')\n",
    "\n",
    "    conv1 = tfkl.Conv2D(\n",
    "        filters=16,\n",
    "        kernel_size=(3, 3),\n",
    "        strides = (1, 1),\n",
    "        padding = 'same',\n",
    "        kernel_initializer = tfk.initializers.GlorotUniform(seed)\n",
    "    )(input_layer)\n",
    "    \n",
    "    batchNorm1 = tfkl.BatchNormalization()(conv1)\n",
    "    \n",
    "    relu1 = tfk.activations.relu(batchNorm1)\n",
    "    \n",
    "    dropout1 = tfkl.Dropout(0.3)(relu1)\n",
    "    \n",
    "    pool1 = tfkl.MaxPooling2D(\n",
    "        pool_size = (2, 2)\n",
    "    )(dropout1)\n",
    "\n",
    "    conv2 = tfkl.Conv2D(\n",
    "        filters=32,\n",
    "        kernel_size=(3, 3),\n",
    "        strides = (1, 1),\n",
    "        padding = 'same',\n",
    "        kernel_initializer = tfk.initializers.GlorotUniform(seed)\n",
    "    )(pool1)\n",
    "\n",
    "    batchNorm2 = tfkl.BatchNormalization()(conv2)\n",
    "    \n",
    "    relu2 = tfk.activations.relu(batchNorm2)\n",
    "    \n",
    "    dropout2 = tfkl.Dropout(0.3)(relu2)\n",
    "    \n",
    "    pool2 = tfkl.MaxPooling2D(\n",
    "        pool_size = (2, 2)\n",
    "    )(dropout2)\n",
    "    \n",
    "    \n",
    "    conv3 = tfkl.Conv2D(\n",
    "        filters=64,\n",
    "        kernel_size=(3, 3),\n",
    "        strides = (1, 1),\n",
    "        padding = 'same',\n",
    "        kernel_initializer = tfk.initializers.GlorotUniform(seed)\n",
    "    )(pool2)\n",
    "\n",
    "    batchNorm3 = tfkl.BatchNormalization()(conv3)\n",
    "    \n",
    "    relu3 = tfk.activations.relu(batchNorm3)\n",
    "    \n",
    "    dropout3 = tfkl.Dropout(0.3)(relu3)\n",
    "    \n",
    "    pool3 = tfkl.MaxPooling2D(\n",
    "        pool_size = (2, 2)\n",
    "    )(dropout3)\n",
    "\n",
    "    conv4 = tfkl.Conv2D(\n",
    "        filters=128,\n",
    "        kernel_size=(3, 3),\n",
    "        strides = (1, 1),\n",
    "        padding = 'same',\n",
    "        activation = 'relu',\n",
    "        kernel_initializer = tfk.initializers.GlorotUniform(seed)\n",
    "    )(pool3)\n",
    "    \n",
    "    batchNorm4 = tfkl.BatchNormalization()(conv4)\n",
    "    \n",
    "    relu4 = tfk.activations.relu(batchNorm4)\n",
    "    \n",
    "    dropout4 = tfkl.Dropout(0.3)(relu4)\n",
    "    \n",
    "    pool4 = tfkl.MaxPooling2D(\n",
    "        pool_size = (2, 2)\n",
    "    )(dropout4)\n",
    "\n",
    "    conv5 = tfkl.Conv2D(\n",
    "        filters=256,\n",
    "        kernel_size=(3, 3),\n",
    "        strides = (1, 1),\n",
    "        padding = 'same',\n",
    "        kernel_initializer = tfk.initializers.GlorotUniform(seed)\n",
    "    )(pool4)\n",
    "    \n",
    "    batchNorm5 = tfkl.BatchNormalization()(conv5)\n",
    "    \n",
    "    relu5 = tfk.activations.relu(batchNorm5)\n",
    "    \n",
    "    glob_pooling = tfkl.GlobalAveragePooling2D(name='GlobalAvglPooling')(relu5)\n",
    "    glob_pooling = tfkl.Dropout(0.3, seed=seed, name='GAPDropout')(glob_pooling)\n",
    "    \n",
    "    dense1 = tfkl.Dense(\n",
    "        units=256,  \n",
    "        activation='relu',\n",
    "        kernel_initializer = tfk.initializers.GlorotUniform(seed),\n",
    "        name='dense1')(glob_pooling)\n",
    "    dense1 = tfkl.Dropout(0.3, seed=seed, name='DenseDropout')(dense1)\n",
    "\n",
    "    classifier_layer = tfkl.Dense(\n",
    "        units=256,  \n",
    "        activation='relu',\n",
    "        kernel_initializer = tfk.initializers.GlorotUniform(seed),\n",
    "        name='Classifier')(dense1)\n",
    "    classifier_layer = tfkl.Dropout(0.3, seed=seed, name='ClassifierDropout')(classifier_layer)\n",
    "\n",
    "    output_layer = tfkl.Dense(\n",
    "        units=14, \n",
    "        activation='softmax', \n",
    "        kernel_initializer = tfk.initializers.GlorotUniform(seed),\n",
    "        name='Output')(classifier_layer)\n",
    "\n",
    "    # Connect input and output through the Model class\n",
    "    model = tfk.Model(inputs=input_layer, outputs=output_layer, name='model_GAP_BN')\n",
    "\n",
    "    # Compile the model\n",
    "    model.compile(loss=tfk.losses.CategoricalCrossentropy(), optimizer=tfk.optimizers.Adam(), metrics=METRICS)\n",
    "\n",
    "    # Return the model\n",
    "    return model"
   ]
  },
  {
   "cell_type": "code",
   "execution_count": 14,
   "id": "9f7f3aa1-3fdb-483f-a041-f8d10dced1c3",
   "metadata": {
    "tags": []
   },
   "outputs": [],
   "source": [
    "# Utility function to create folders and callbacks for training\n",
    "from datetime import datetime\n",
    "\n",
    "def create_folders_and_callbacks(model_name):\n",
    "    exps_dir = os.path.join('logs/Grayscale')\n",
    "    if not os.path.exists(exps_dir):\n",
    "        os.makedirs(exps_dir)\n",
    "\n",
    "    now = datetime.now().strftime('%b%d_%H-%M-%S')\n",
    "\n",
    "    exp_dir = os.path.join(exps_dir, model_name + '_' + str(now))\n",
    "    if not os.path.exists(exp_dir):\n",
    "        os.makedirs(exp_dir)\n",
    "      \n",
    "    callbacks = []\n",
    "\n",
    "  # Model checkpoint\n",
    "  # ----------------\n",
    "    ckpt_dir = os.path.join(exp_dir, 'ckpts')\n",
    "    if not os.path.exists(ckpt_dir):\n",
    "        os.makedirs(ckpt_dir)\n",
    "\n",
    "    ckpt_callback = tf.keras.callbacks.ModelCheckpoint(filepath=os.path.join(ckpt_dir, 'cp.ckpt'), \n",
    "                                                     save_weights_only=False, # True to save only weights\n",
    "                                                     save_best_only=False) # True to save only the best epoch \n",
    "    callbacks.append(ckpt_callback)\n",
    "\n",
    "  # Visualize Learning on Tensorboard\n",
    "  # ---------------------------------\n",
    "    tb_dir = os.path.join(exp_dir, 'tb_logs')\n",
    "    if not os.path.exists(tb_dir):\n",
    "        os.makedirs(tb_dir)\n",
    "      \n",
    "  # By default shows losses and metrics for both training and validation\n",
    "    tb_callback = tf.keras.callbacks.TensorBoard(log_dir=tb_dir, \n",
    "                                               profile_batch=0,\n",
    "                                               histogram_freq=1)  # if > 0 (epochs) shows weights histograms\n",
    "    callbacks.append(tb_callback)\n",
    "\n",
    "  # Early Stopping\n",
    "  # --------------\n",
    "    es_callback = tf.keras.callbacks.EarlyStopping(monitor='val_auc', patience=10, \n",
    "                                                   restore_best_weights=True, \n",
    "                                                   verbose=1,\n",
    "                                                   mode='max',)\n",
    "    callbacks.append(es_callback)\n",
    "\n",
    "    return callbacks"
   ]
  },
  {
   "cell_type": "code",
   "execution_count": 15,
   "id": "848fccf3-14f6-424c-84a9-e6267eff870d",
   "metadata": {
    "tags": []
   },
   "outputs": [
    {
     "name": "stdout",
     "output_type": "stream",
     "text": [
      "Model: \"model_GAP_BN\"\n",
      "_________________________________________________________________\n",
      "Layer (type)                 Output Shape              Param #   \n",
      "=================================================================\n",
      "Input (InputLayer)           [(None, 256, 256, 1)]     0         \n",
      "_________________________________________________________________\n",
      "conv2d (Conv2D)              (None, 256, 256, 16)      160       \n",
      "_________________________________________________________________\n",
      "batch_normalization (BatchNo (None, 256, 256, 16)      64        \n",
      "_________________________________________________________________\n",
      "tf.nn.relu (TFOpLambda)      (None, 256, 256, 16)      0         \n",
      "_________________________________________________________________\n",
      "dropout (Dropout)            (None, 256, 256, 16)      0         \n",
      "_________________________________________________________________\n",
      "max_pooling2d (MaxPooling2D) (None, 128, 128, 16)      0         \n",
      "_________________________________________________________________\n",
      "conv2d_1 (Conv2D)            (None, 128, 128, 32)      4640      \n",
      "_________________________________________________________________\n",
      "batch_normalization_1 (Batch (None, 128, 128, 32)      128       \n",
      "_________________________________________________________________\n",
      "tf.nn.relu_1 (TFOpLambda)    (None, 128, 128, 32)      0         \n",
      "_________________________________________________________________\n",
      "dropout_1 (Dropout)          (None, 128, 128, 32)      0         \n",
      "_________________________________________________________________\n",
      "max_pooling2d_1 (MaxPooling2 (None, 64, 64, 32)        0         \n",
      "_________________________________________________________________\n",
      "conv2d_2 (Conv2D)            (None, 64, 64, 64)        18496     \n",
      "_________________________________________________________________\n",
      "batch_normalization_2 (Batch (None, 64, 64, 64)        256       \n",
      "_________________________________________________________________\n",
      "tf.nn.relu_2 (TFOpLambda)    (None, 64, 64, 64)        0         \n",
      "_________________________________________________________________\n",
      "dropout_2 (Dropout)          (None, 64, 64, 64)        0         \n",
      "_________________________________________________________________\n",
      "max_pooling2d_2 (MaxPooling2 (None, 32, 32, 64)        0         \n",
      "_________________________________________________________________\n",
      "conv2d_3 (Conv2D)            (None, 32, 32, 128)       73856     \n",
      "_________________________________________________________________\n",
      "batch_normalization_3 (Batch (None, 32, 32, 128)       512       \n",
      "_________________________________________________________________\n",
      "tf.nn.relu_3 (TFOpLambda)    (None, 32, 32, 128)       0         \n",
      "_________________________________________________________________\n",
      "dropout_3 (Dropout)          (None, 32, 32, 128)       0         \n",
      "_________________________________________________________________\n",
      "max_pooling2d_3 (MaxPooling2 (None, 16, 16, 128)       0         \n",
      "_________________________________________________________________\n",
      "conv2d_4 (Conv2D)            (None, 16, 16, 256)       295168    \n",
      "_________________________________________________________________\n",
      "batch_normalization_4 (Batch (None, 16, 16, 256)       1024      \n",
      "_________________________________________________________________\n",
      "tf.nn.relu_4 (TFOpLambda)    (None, 16, 16, 256)       0         \n",
      "_________________________________________________________________\n",
      "GlobalAvglPooling (GlobalAve (None, 256)               0         \n",
      "_________________________________________________________________\n",
      "GAPDropout (Dropout)         (None, 256)               0         \n",
      "_________________________________________________________________\n",
      "dense1 (Dense)               (None, 256)               65792     \n",
      "_________________________________________________________________\n",
      "DenseDropout (Dropout)       (None, 256)               0         \n",
      "_________________________________________________________________\n",
      "Classifier (Dense)           (None, 256)               65792     \n",
      "_________________________________________________________________\n",
      "ClassifierDropout (Dropout)  (None, 256)               0         \n",
      "_________________________________________________________________\n",
      "Output (Dense)               (None, 14)                3598      \n",
      "=================================================================\n",
      "Total params: 529,486\n",
      "Trainable params: 528,494\n",
      "Non-trainable params: 992\n",
      "_________________________________________________________________\n"
     ]
    },
    {
     "data": {
      "image/png": "[encoded data removed]",
      "text/plain": [
       "<PIL.Image.Image image mode=RGBA size=1037x378 at 0x1638766D0>"
      ]
     },
     "execution_count": 15,
     "metadata": {},
     "output_type": "execute_result"
    }
   ],
   "source": [
    "model = build_model(input_shape)\n",
    "model.summary()\n",
    "visualkeras.layered_view(model, legend=True, spacing=10, scale_xy=1)"
   ]
  },
  {
   "cell_type": "code",
   "execution_count": 16,
   "id": "abd37bea-923f-4416-9f79-86d7b5fec523",
   "metadata": {
    "tags": []
   },
   "outputs": [
    {
     "name": "stdout",
     "output_type": "stream",
     "text": [
      "Epoch 1/200\n",
      "236/236 [==============================] - 130s 544ms/step - loss: 1.9068 - tp: 1643.0000 - fp: 1216.0000 - tn: 194590.0000 - fn: 13419.0000 - accuracy: 0.9306 - precision: 0.5747 - recall: 0.1091 - auc: 0.8255 - val_loss: 4.3395 - val_tp: 3.0000 - val_fp: 24.0000 - val_tn: 34634.0000 - val_fn: 2663.0000 - val_accuracy: 0.9280 - val_precision: 0.1111 - val_recall: 0.0011 - val_auc: 0.5478\n"
     ]
    },
    {
     "name": "stderr",
     "output_type": "stream",
     "text": [
      "WARNING:absl:Function `_wrapped_model` contains input name(s) Input with unsupported characters which will be renamed to input in the SavedModel.\n"
     ]
    },
    {
     "name": "stdout",
     "output_type": "stream",
     "text": [
      "Epoch 2/200\n",
      "236/236 [==============================] - 132s 557ms/step - loss: 1.4408 - tp: 4199.0000 - fp: 2156.0000 - tn: 193650.0000 - fn: 10863.0000 - accuracy: 0.9383 - precision: 0.6607 - recall: 0.2788 - auc: 0.9014 - val_loss: 4.8302 - val_tp: 155.0000 - val_fp: 1196.0000 - val_tn: 33462.0000 - val_fn: 2511.0000 - val_accuracy: 0.9007 - val_precision: 0.1147 - val_recall: 0.0581 - val_auc: 0.5608\n"
     ]
    },
    {
     "name": "stderr",
     "output_type": "stream",
     "text": [
      "WARNING:absl:Function `_wrapped_model` contains input name(s) Input with unsupported characters which will be renamed to input in the SavedModel.\n"
     ]
    },
    {
     "name": "stdout",
     "output_type": "stream",
     "text": [
      "Epoch 3/200\n",
      "236/236 [==============================] - 138s 586ms/step - loss: 1.1541 - tp: 6109.0000 - fp: 2507.0000 - tn: 193299.0000 - fn: 8953.0000 - accuracy: 0.9457 - precision: 0.7090 - recall: 0.4056 - auc: 0.9355 - val_loss: 3.0704 - val_tp: 672.0000 - val_fp: 687.0000 - val_tn: 33971.0000 - val_fn: 1994.0000 - val_accuracy: 0.9282 - val_precision: 0.4945 - val_recall: 0.2521 - val_auc: 0.7232\n"
     ]
    },
    {
     "name": "stderr",
     "output_type": "stream",
     "text": [
      "WARNING:absl:Function `_wrapped_model` contains input name(s) Input with unsupported characters which will be renamed to input in the SavedModel.\n"
     ]
    },
    {
     "name": "stdout",
     "output_type": "stream",
     "text": [
      "Epoch 4/200\n",
      "236/236 [==============================] - 144s 608ms/step - loss: 0.9313 - tp: 8023.0000 - fp: 2614.0000 - tn: 193192.0000 - fn: 7039.0000 - accuracy: 0.9542 - precision: 0.7543 - recall: 0.5327 - auc: 0.9561 - val_loss: 2.8713 - val_tp: 500.0000 - val_fp: 1087.0000 - val_tn: 33571.0000 - val_fn: 2166.0000 - val_accuracy: 0.9128 - val_precision: 0.3151 - val_recall: 0.1875 - val_auc: 0.7441\n"
     ]
    },
    {
     "name": "stderr",
     "output_type": "stream",
     "text": [
      "WARNING:absl:Function `_wrapped_model` contains input name(s) Input with unsupported characters which will be renamed to input in the SavedModel.\n"
     ]
    },
    {
     "name": "stdout",
     "output_type": "stream",
     "text": [
      "Epoch 5/200\n",
      "236/236 [==============================] - 131s 556ms/step - loss: 0.8130 - tp: 8932.0000 - fp: 2551.0000 - tn: 193255.0000 - fn: 6130.0000 - accuracy: 0.9588 - precision: 0.7778 - recall: 0.5930 - auc: 0.9642 - val_loss: 4.4622 - val_tp: 444.0000 - val_fp: 1985.0000 - val_tn: 32673.0000 - val_fn: 2222.0000 - val_accuracy: 0.8873 - val_precision: 0.1828 - val_recall: 0.1665 - val_auc: 0.6540\n"
     ]
    },
    {
     "name": "stderr",
     "output_type": "stream",
     "text": [
      "WARNING:absl:Function `_wrapped_model` contains input name(s) Input with unsupported characters which will be renamed to input in the SavedModel.\n"
     ]
    },
    {
     "name": "stdout",
     "output_type": "stream",
     "text": [
      "Epoch 6/200\n",
      "236/236 [==============================] - 136s 575ms/step - loss: 0.7166 - tp: 9650.0000 - fp: 2361.0000 - tn: 193445.0000 - fn: 5412.0000 - accuracy: 0.9631 - precision: 0.8034 - recall: 0.6407 - auc: 0.9704 - val_loss: 2.9307 - val_tp: 628.0000 - val_fp: 1557.0000 - val_tn: 33101.0000 - val_fn: 2038.0000 - val_accuracy: 0.9037 - val_precision: 0.2874 - val_recall: 0.2356 - val_auc: 0.7778\n"
     ]
    },
    {
     "name": "stderr",
     "output_type": "stream",
     "text": [
      "WARNING:absl:Function `_wrapped_model` contains input name(s) Input with unsupported characters which will be renamed to input in the SavedModel.\n"
     ]
    },
    {
     "name": "stdout",
     "output_type": "stream",
     "text": [
      "Epoch 7/200\n",
      "236/236 [==============================] - 129s 545ms/step - loss: 0.6600 - tp: 10153.0000 - fp: 2317.0000 - tn: 193489.0000 - fn: 4909.0000 - accuracy: 0.9657 - precision: 0.8142 - recall: 0.6741 - auc: 0.9739 - val_loss: 3.8270 - val_tp: 434.0000 - val_fp: 1784.0000 - val_tn: 32874.0000 - val_fn: 2232.0000 - val_accuracy: 0.8924 - val_precision: 0.1957 - val_recall: 0.1628 - val_auc: 0.7085\n"
     ]
    },
    {
     "name": "stderr",
     "output_type": "stream",
     "text": [
      "WARNING:absl:Function `_wrapped_model` contains input name(s) Input with unsupported characters which will be renamed to input in the SavedModel.\n"
     ]
    },
    {
     "name": "stdout",
     "output_type": "stream",
     "text": [
      "Epoch 8/200\n",
      "236/236 [==============================] - 136s 574ms/step - loss: 0.5716 - tp: 10817.0000 - fp: 2139.0000 - tn: 193667.0000 - fn: 4245.0000 - accuracy: 0.9697 - precision: 0.8349 - recall: 0.7182 - auc: 0.9791 - val_loss: 1.9662 - val_tp: 891.0000 - val_fp: 900.0000 - val_tn: 33758.0000 - val_fn: 1775.0000 - val_accuracy: 0.9283 - val_precision: 0.4975 - val_recall: 0.3342 - val_auc: 0.8573\n"
     ]
    },
    {
     "name": "stderr",
     "output_type": "stream",
     "text": [
      "WARNING:absl:Function `_wrapped_model` contains input name(s) Input with unsupported characters which will be renamed to input in the SavedModel.\n"
     ]
    },
    {
     "name": "stdout",
     "output_type": "stream",
     "text": [
      "Epoch 9/200\n",
      "236/236 [==============================] - 128s 540ms/step - loss: 0.5419 - tp: 11064.0000 - fp: 2053.0000 - tn: 193753.0000 - fn: 3998.0000 - accuracy: 0.9713 - precision: 0.8435 - recall: 0.7346 - auc: 0.9810 - val_loss: 3.8579 - val_tp: 510.0000 - val_fp: 1834.0000 - val_tn: 32824.0000 - val_fn: 2156.0000 - val_accuracy: 0.8931 - val_precision: 0.2176 - val_recall: 0.1913 - val_auc: 0.7292\n"
     ]
    },
    {
     "name": "stderr",
     "output_type": "stream",
     "text": [
      "WARNING:absl:Function `_wrapped_model` contains input name(s) Input with unsupported characters which will be renamed to input in the SavedModel.\n"
     ]
    },
    {
     "name": "stdout",
     "output_type": "stream",
     "text": [
      "Epoch 10/200\n",
      "236/236 [==============================] - 126s 532ms/step - loss: 0.5028 - tp: 11285.0000 - fp: 1989.0000 - tn: 193817.0000 - fn: 3777.0000 - accuracy: 0.9727 - precision: 0.8502 - recall: 0.7492 - auc: 0.9827 - val_loss: 4.1782 - val_tp: 531.0000 - val_fp: 1900.0000 - val_tn: 32758.0000 - val_fn: 2135.0000 - val_accuracy: 0.8919 - val_precision: 0.2184 - val_recall: 0.1992 - val_auc: 0.7237\n"
     ]
    },
    {
     "name": "stderr",
     "output_type": "stream",
     "text": [
      "WARNING:absl:Function `_wrapped_model` contains input name(s) Input with unsupported characters which will be renamed to input in the SavedModel.\n"
     ]
    },
    {
     "name": "stdout",
     "output_type": "stream",
     "text": [
      "Epoch 11/200\n",
      "236/236 [==============================] - 129s 544ms/step - loss: 0.4764 - tp: 11540.0000 - fp: 1945.0000 - tn: 193861.0000 - fn: 3522.0000 - accuracy: 0.9741 - precision: 0.8558 - recall: 0.7662 - auc: 0.9843 - val_loss: 3.6150 - val_tp: 589.0000 - val_fp: 1694.0000 - val_tn: 32964.0000 - val_fn: 2077.0000 - val_accuracy: 0.8990 - val_precision: 0.2580 - val_recall: 0.2209 - val_auc: 0.7335\n"
     ]
    },
    {
     "name": "stderr",
     "output_type": "stream",
     "text": [
      "WARNING:absl:Function `_wrapped_model` contains input name(s) Input with unsupported characters which will be renamed to input in the SavedModel.\n"
     ]
    },
    {
     "name": "stdout",
     "output_type": "stream",
     "text": [
      "Epoch 12/200\n",
      "236/236 [==============================] - 125s 529ms/step - loss: 0.4410 - tp: 11773.0000 - fp: 1824.0000 - tn: 193982.0000 - fn: 3289.0000 - accuracy: 0.9758 - precision: 0.8659 - recall: 0.7816 - auc: 0.9859 - val_loss: 5.6195 - val_tp: 394.0000 - val_fp: 2149.0000 - val_tn: 32509.0000 - val_fn: 2272.0000 - val_accuracy: 0.8816 - val_precision: 0.1549 - val_recall: 0.1478 - val_auc: 0.6359\n"
     ]
    },
    {
     "name": "stderr",
     "output_type": "stream",
     "text": [
      "WARNING:absl:Function `_wrapped_model` contains input name(s) Input with unsupported characters which will be renamed to input in the SavedModel.\n"
     ]
    },
    {
     "name": "stdout",
     "output_type": "stream",
     "text": [
      "Epoch 13/200\n",
      "236/236 [==============================] - 140s 594ms/step - loss: 0.4186 - tp: 11991.0000 - fp: 1734.0000 - tn: 194072.0000 - fn: 3071.0000 - accuracy: 0.9772 - precision: 0.8737 - recall: 0.7961 - auc: 0.9872 - val_loss: 5.5941 - val_tp: 345.0000 - val_fp: 2181.0000 - val_tn: 32477.0000 - val_fn: 2321.0000 - val_accuracy: 0.8794 - val_precision: 0.1366 - val_recall: 0.1294 - val_auc: 0.6435\n"
     ]
    },
    {
     "name": "stderr",
     "output_type": "stream",
     "text": [
      "WARNING:absl:Function `_wrapped_model` contains input name(s) Input with unsupported characters which will be renamed to input in the SavedModel.\n"
     ]
    },
    {
     "name": "stdout",
     "output_type": "stream",
     "text": [
      "Epoch 14/200\n",
      "236/236 [==============================] - 129s 545ms/step - loss: 0.3826 - tp: 12132.0000 - fp: 1656.0000 - tn: 194150.0000 - fn: 2930.0000 - accuracy: 0.9783 - precision: 0.8799 - recall: 0.8055 - auc: 0.9878 - val_loss: 4.3193 - val_tp: 476.0000 - val_fp: 1990.0000 - val_tn: 32668.0000 - val_fn: 2190.0000 - val_accuracy: 0.8880 - val_precision: 0.1930 - val_recall: 0.1785 - val_auc: 0.7195\n"
     ]
    },
    {
     "name": "stderr",
     "output_type": "stream",
     "text": [
      "WARNING:absl:Function `_wrapped_model` contains input name(s) Input with unsupported characters which will be renamed to input in the SavedModel.\n"
     ]
    },
    {
     "name": "stdout",
     "output_type": "stream",
     "text": [
      "Epoch 15/200\n",
      "236/236 [==============================] - 134s 567ms/step - loss: 0.3580 - tp: 12453.0000 - fp: 1568.0000 - tn: 194238.0000 - fn: 2609.0000 - accuracy: 0.9802 - precision: 0.8882 - recall: 0.8268 - auc: 0.9896 - val_loss: 8.2337 - val_tp: 319.0000 - val_fp: 2325.0000 - val_tn: 32333.0000 - val_fn: 2347.0000 - val_accuracy: 0.8748 - val_precision: 0.1207 - val_recall: 0.1197 - val_auc: 0.5815\n"
     ]
    },
    {
     "name": "stderr",
     "output_type": "stream",
     "text": [
      "WARNING:absl:Function `_wrapped_model` contains input name(s) Input with unsupported characters which will be renamed to input in the SavedModel.\n"
     ]
    },
    {
     "name": "stdout",
     "output_type": "stream",
     "text": [
      "Epoch 16/200\n",
      "117/236 [=============>................] - ETA: 1:02 - loss: 0.3423 - tp: 6121.0000 - fp: 778.0000 - tn: 96020.0000 - fn: 1325.0000 - accuracy: 0.9798 - precision: 0.8872 - recall: 0.8221 - auc: 0.9899"
     ]
    },
    {
     "ename": "KeyboardInterrupt",
     "evalue": "",
     "output_type": "error",
     "traceback": [
      "\u001b[0;31m---------------------------------------------------------------------------\u001b[0m",
      "\u001b[0;31mKeyboardInterrupt\u001b[0m                         Traceback (most recent call last)",
      "\u001b[0;32m<ipython-input-16-d98f331845c3>\u001b[0m in \u001b[0;36m<module>\u001b[0;34m\u001b[0m\n\u001b[1;32m      6\u001b[0m \u001b[0;34m\u001b[0m\u001b[0m\n\u001b[1;32m      7\u001b[0m \u001b[0;31m# Train the model\u001b[0m\u001b[0;34m\u001b[0m\u001b[0;34m\u001b[0m\u001b[0;34m\u001b[0m\u001b[0m\n\u001b[0;32m----> 8\u001b[0;31m history = model.fit(\n\u001b[0m\u001b[1;32m      9\u001b[0m     \u001b[0mx\u001b[0m \u001b[0;34m=\u001b[0m \u001b[0mtrain_gen\u001b[0m\u001b[0;34m,\u001b[0m\u001b[0;34m\u001b[0m\u001b[0;34m\u001b[0m\u001b[0m\n\u001b[1;32m     10\u001b[0m     \u001b[0mepochs\u001b[0m \u001b[0;34m=\u001b[0m \u001b[0mepochs\u001b[0m\u001b[0;34m,\u001b[0m\u001b[0;34m\u001b[0m\u001b[0;34m\u001b[0m\u001b[0m\n",
      "\u001b[0;32m~/miniforge3/envs/tensorflow/lib/python3.9/site-packages/keras/engine/training.py\u001b[0m in \u001b[0;36mfit\u001b[0;34m(self, x, y, batch_size, epochs, verbose, callbacks, validation_split, validation_data, shuffle, class_weight, sample_weight, initial_epoch, steps_per_epoch, validation_steps, validation_batch_size, validation_freq, max_queue_size, workers, use_multiprocessing)\u001b[0m\n\u001b[1;32m   1182\u001b[0m                 _r=1):\n\u001b[1;32m   1183\u001b[0m               \u001b[0mcallbacks\u001b[0m\u001b[0;34m.\u001b[0m\u001b[0mon_train_batch_begin\u001b[0m\u001b[0;34m(\u001b[0m\u001b[0mstep\u001b[0m\u001b[0;34m)\u001b[0m\u001b[0;34m\u001b[0m\u001b[0;34m\u001b[0m\u001b[0m\n\u001b[0;32m-> 1184\u001b[0;31m               \u001b[0mtmp_logs\u001b[0m \u001b[0;34m=\u001b[0m \u001b[0mself\u001b[0m\u001b[0;34m.\u001b[0m\u001b[0mtrain_function\u001b[0m\u001b[0;34m(\u001b[0m\u001b[0miterator\u001b[0m\u001b[0;34m)\u001b[0m\u001b[0;34m\u001b[0m\u001b[0;34m\u001b[0m\u001b[0m\n\u001b[0m\u001b[1;32m   1185\u001b[0m               \u001b[0;32mif\u001b[0m \u001b[0mdata_handler\u001b[0m\u001b[0;34m.\u001b[0m\u001b[0mshould_sync\u001b[0m\u001b[0;34m:\u001b[0m\u001b[0;34m\u001b[0m\u001b[0;34m\u001b[0m\u001b[0m\n\u001b[1;32m   1186\u001b[0m                 \u001b[0mcontext\u001b[0m\u001b[0;34m.\u001b[0m\u001b[0masync_wait\u001b[0m\u001b[0;34m(\u001b[0m\u001b[0;34m)\u001b[0m\u001b[0;34m\u001b[0m\u001b[0;34m\u001b[0m\u001b[0m\n",
      "\u001b[0;32m~/miniforge3/envs/tensorflow/lib/python3.9/site-packages/tensorflow/python/eager/def_function.py\u001b[0m in \u001b[0;36m__call__\u001b[0;34m(self, *args, **kwds)\u001b[0m\n\u001b[1;32m    883\u001b[0m \u001b[0;34m\u001b[0m\u001b[0m\n\u001b[1;32m    884\u001b[0m       \u001b[0;32mwith\u001b[0m \u001b[0mOptionalXlaContext\u001b[0m\u001b[0;34m(\u001b[0m\u001b[0mself\u001b[0m\u001b[0;34m.\u001b[0m\u001b[0m_jit_compile\u001b[0m\u001b[0;34m)\u001b[0m\u001b[0;34m:\u001b[0m\u001b[0;34m\u001b[0m\u001b[0;34m\u001b[0m\u001b[0m\n\u001b[0;32m--> 885\u001b[0;31m         \u001b[0mresult\u001b[0m \u001b[0;34m=\u001b[0m \u001b[0mself\u001b[0m\u001b[0;34m.\u001b[0m\u001b[0m_call\u001b[0m\u001b[0;34m(\u001b[0m\u001b[0;34m*\u001b[0m\u001b[0margs\u001b[0m\u001b[0;34m,\u001b[0m \u001b[0;34m**\u001b[0m\u001b[0mkwds\u001b[0m\u001b[0;34m)\u001b[0m\u001b[0;34m\u001b[0m\u001b[0;34m\u001b[0m\u001b[0m\n\u001b[0m\u001b[1;32m    886\u001b[0m \u001b[0;34m\u001b[0m\u001b[0m\n\u001b[1;32m    887\u001b[0m       \u001b[0mnew_tracing_count\u001b[0m \u001b[0;34m=\u001b[0m \u001b[0mself\u001b[0m\u001b[0;34m.\u001b[0m\u001b[0mexperimental_get_tracing_count\u001b[0m\u001b[0;34m(\u001b[0m\u001b[0;34m)\u001b[0m\u001b[0;34m\u001b[0m\u001b[0;34m\u001b[0m\u001b[0m\n",
      "\u001b[0;32m~/miniforge3/envs/tensorflow/lib/python3.9/site-packages/tensorflow/python/eager/def_function.py\u001b[0m in \u001b[0;36m_call\u001b[0;34m(self, *args, **kwds)\u001b[0m\n\u001b[1;32m    915\u001b[0m       \u001b[0;31m# In this case we have created variables on the first call, so we run the\u001b[0m\u001b[0;34m\u001b[0m\u001b[0;34m\u001b[0m\u001b[0;34m\u001b[0m\u001b[0m\n\u001b[1;32m    916\u001b[0m       \u001b[0;31m# defunned version which is guaranteed to never create variables.\u001b[0m\u001b[0;34m\u001b[0m\u001b[0;34m\u001b[0m\u001b[0;34m\u001b[0m\u001b[0m\n\u001b[0;32m--> 917\u001b[0;31m       \u001b[0;32mreturn\u001b[0m \u001b[0mself\u001b[0m\u001b[0;34m.\u001b[0m\u001b[0m_stateless_fn\u001b[0m\u001b[0;34m(\u001b[0m\u001b[0;34m*\u001b[0m\u001b[0margs\u001b[0m\u001b[0;34m,\u001b[0m \u001b[0;34m**\u001b[0m\u001b[0mkwds\u001b[0m\u001b[0;34m)\u001b[0m  \u001b[0;31m# pylint: disable=not-callable\u001b[0m\u001b[0;34m\u001b[0m\u001b[0;34m\u001b[0m\u001b[0m\n\u001b[0m\u001b[1;32m    918\u001b[0m     \u001b[0;32melif\u001b[0m \u001b[0mself\u001b[0m\u001b[0;34m.\u001b[0m\u001b[0m_stateful_fn\u001b[0m \u001b[0;32mis\u001b[0m \u001b[0;32mnot\u001b[0m \u001b[0;32mNone\u001b[0m\u001b[0;34m:\u001b[0m\u001b[0;34m\u001b[0m\u001b[0;34m\u001b[0m\u001b[0m\n\u001b[1;32m    919\u001b[0m       \u001b[0;31m# Release the lock early so that multiple threads can perform the call\u001b[0m\u001b[0;34m\u001b[0m\u001b[0;34m\u001b[0m\u001b[0;34m\u001b[0m\u001b[0m\n",
      "\u001b[0;32m~/miniforge3/envs/tensorflow/lib/python3.9/site-packages/tensorflow/python/eager/function.py\u001b[0m in \u001b[0;36m__call__\u001b[0;34m(self, *args, **kwargs)\u001b[0m\n\u001b[1;32m   3037\u001b[0m       (graph_function,\n\u001b[1;32m   3038\u001b[0m        filtered_flat_args) = self._maybe_define_function(args, kwargs)\n\u001b[0;32m-> 3039\u001b[0;31m     return graph_function._call_flat(\n\u001b[0m\u001b[1;32m   3040\u001b[0m         filtered_flat_args, captured_inputs=graph_function.captured_inputs)  # pylint: disable=protected-access\n\u001b[1;32m   3041\u001b[0m \u001b[0;34m\u001b[0m\u001b[0m\n",
      "\u001b[0;32m~/miniforge3/envs/tensorflow/lib/python3.9/site-packages/tensorflow/python/eager/function.py\u001b[0m in \u001b[0;36m_call_flat\u001b[0;34m(self, args, captured_inputs, cancellation_manager)\u001b[0m\n\u001b[1;32m   1961\u001b[0m         and executing_eagerly):\n\u001b[1;32m   1962\u001b[0m       \u001b[0;31m# No tape is watching; skip to running the function.\u001b[0m\u001b[0;34m\u001b[0m\u001b[0;34m\u001b[0m\u001b[0;34m\u001b[0m\u001b[0m\n\u001b[0;32m-> 1963\u001b[0;31m       return self._build_call_outputs(self._inference_function.call(\n\u001b[0m\u001b[1;32m   1964\u001b[0m           ctx, args, cancellation_manager=cancellation_manager))\n\u001b[1;32m   1965\u001b[0m     forward_backward = self._select_forward_and_backward_functions(\n",
      "\u001b[0;32m~/miniforge3/envs/tensorflow/lib/python3.9/site-packages/tensorflow/python/eager/function.py\u001b[0m in \u001b[0;36mcall\u001b[0;34m(self, ctx, args, cancellation_manager)\u001b[0m\n\u001b[1;32m    589\u001b[0m       \u001b[0;32mwith\u001b[0m \u001b[0m_InterpolateFunctionError\u001b[0m\u001b[0;34m(\u001b[0m\u001b[0mself\u001b[0m\u001b[0;34m)\u001b[0m\u001b[0;34m:\u001b[0m\u001b[0;34m\u001b[0m\u001b[0;34m\u001b[0m\u001b[0m\n\u001b[1;32m    590\u001b[0m         \u001b[0;32mif\u001b[0m \u001b[0mcancellation_manager\u001b[0m \u001b[0;32mis\u001b[0m \u001b[0;32mNone\u001b[0m\u001b[0;34m:\u001b[0m\u001b[0;34m\u001b[0m\u001b[0;34m\u001b[0m\u001b[0m\n\u001b[0;32m--> 591\u001b[0;31m           outputs = execute.execute(\n\u001b[0m\u001b[1;32m    592\u001b[0m               \u001b[0mstr\u001b[0m\u001b[0;34m(\u001b[0m\u001b[0mself\u001b[0m\u001b[0;34m.\u001b[0m\u001b[0msignature\u001b[0m\u001b[0;34m.\u001b[0m\u001b[0mname\u001b[0m\u001b[0;34m)\u001b[0m\u001b[0;34m,\u001b[0m\u001b[0;34m\u001b[0m\u001b[0;34m\u001b[0m\u001b[0m\n\u001b[1;32m    593\u001b[0m               \u001b[0mnum_outputs\u001b[0m\u001b[0;34m=\u001b[0m\u001b[0mself\u001b[0m\u001b[0;34m.\u001b[0m\u001b[0m_num_outputs\u001b[0m\u001b[0;34m,\u001b[0m\u001b[0;34m\u001b[0m\u001b[0;34m\u001b[0m\u001b[0m\n",
      "\u001b[0;32m~/miniforge3/envs/tensorflow/lib/python3.9/site-packages/tensorflow/python/eager/execute.py\u001b[0m in \u001b[0;36mquick_execute\u001b[0;34m(op_name, num_outputs, inputs, attrs, ctx, name)\u001b[0m\n\u001b[1;32m     57\u001b[0m   \u001b[0;32mtry\u001b[0m\u001b[0;34m:\u001b[0m\u001b[0;34m\u001b[0m\u001b[0;34m\u001b[0m\u001b[0m\n\u001b[1;32m     58\u001b[0m     \u001b[0mctx\u001b[0m\u001b[0;34m.\u001b[0m\u001b[0mensure_initialized\u001b[0m\u001b[0;34m(\u001b[0m\u001b[0;34m)\u001b[0m\u001b[0;34m\u001b[0m\u001b[0;34m\u001b[0m\u001b[0m\n\u001b[0;32m---> 59\u001b[0;31m     tensors = pywrap_tfe.TFE_Py_Execute(ctx._handle, device_name, op_name,\n\u001b[0m\u001b[1;32m     60\u001b[0m                                         inputs, attrs, num_outputs)\n\u001b[1;32m     61\u001b[0m   \u001b[0;32mexcept\u001b[0m \u001b[0mcore\u001b[0m\u001b[0;34m.\u001b[0m\u001b[0m_NotOkStatusException\u001b[0m \u001b[0;32mas\u001b[0m \u001b[0me\u001b[0m\u001b[0;34m:\u001b[0m\u001b[0;34m\u001b[0m\u001b[0;34m\u001b[0m\u001b[0m\n",
      "\u001b[0;31mKeyboardInterrupt\u001b[0m: "
     ]
    }
   ],
   "source": [
    "tf.get_logger().setLevel('WARNING') #  if you want to suppress only INFOs\n",
    "tf.get_logger().setLevel('ERROR') #  if you want to suppress both WARNINGs and INFOs\n",
    "\n",
    "# Create folders and callbacks and fit\n",
    "train_callbacks = create_folders_and_callbacks(model_name='BatchNormGray')\n",
    "\n",
    "# Train the model\n",
    "history = model.fit(\n",
    "    x = train_gen,\n",
    "    epochs = epochs,\n",
    "    validation_data = valid_gen,\n",
    "    callbacks = train_callbacks,\n",
    "    class_weight = class_weights,\n",
    ").history"
   ]
  },
  {
   "cell_type": "code",
   "execution_count": null,
   "id": "ed9c10d8-d94e-40b5-8044-83377fb7268c",
   "metadata": {
    "tags": []
   },
   "outputs": [],
   "source": [
    "# Save best epoch model\n",
    "model.save(\"best_model/GAPLossData\")"
   ]
  },
  {
   "cell_type": "code",
   "execution_count": 32,
   "id": "a0dbfa0e-f65f-4075-b516-c31d47c7ea49",
   "metadata": {},
   "outputs": [],
   "source": [
    "del model"
   ]
  },
  {
   "cell_type": "code",
   "execution_count": 33,
   "id": "cc05b392-8d74-47bb-b73b-b012bc5047af",
   "metadata": {},
   "outputs": [],
   "source": [
    "model = tfk.models.load_model(\"logs/GAPBatchNorm/Batch_Norm_Nov19_12-55-38/ckpts/cp.ckpt\")"
   ]
  },
  {
   "cell_type": "code",
   "execution_count": 10,
   "id": "303df48e-349c-4a17-a63f-99c03fba9d0f",
   "metadata": {},
   "outputs": [
    {
     "name": "stdout",
     "output_type": "stream",
     "text": [
      "1779/1779 [==============================] - 14s 8ms/step - loss: 0.1587 - accuracy: 0.9545\n",
      "\n",
      "Test metrics with data augmentation\n",
      "{'loss': 0.15866169333457947, 'accuracy': 0.9544687867164612}\n"
     ]
    }
   ],
   "source": [
    "model_test_metrics = model.evaluate(valid_gen, return_dict=True)\n",
    "\n",
    "print()\n",
    "print(\"Test metrics with data augmentation\")\n",
    "print(model_test_metrics)"
   ]
  },
  {
   "cell_type": "code",
   "execution_count": 27,
   "id": "f043e550-bd3b-4ed6-81f5-ffb6b7bcf55b",
   "metadata": {},
   "outputs": [
    {
     "name": "stdout",
     "output_type": "stream",
     "text": [
      "Confusion Matrix\n",
      "[[113   0  12   2   0   0   4   6   0   0  11   0   0   1]\n",
      " [  0  65   4   0   0   0   2   0   0   0   0   0   0   0]\n",
      " [  1   2  71   0   0   0   3   3   0   0   8   0   0   0]\n",
      " [  0   0   4 172   0   0   0   2   0   0   3   0   0   0]\n",
      " [  6   0   3   1 159   0   4   4   0   1   3   0  22  16]\n",
      " [  3   3  25   0   0 152   5  19   2   0  47   0   0   7]\n",
      " [  0   0   2   0   0   0 141   0   0   0   2   0   0   2]\n",
      " [  0   0   4   0   1   0   2 102   0   0   6   0   0   0]\n",
      " [  2   0   1   1   1   0   1   0  66   0  11   0   1  24]\n",
      " [  0   0   0   0   0   0   0   0   0  37   1   0   1   1]\n",
      " [  1   0   0   0   0   0   0   1   0   1 240   0   0   0]\n",
      " [  2   1  14   6   0   0   0   0   0   0   1  61   0   2]\n",
      " [  0   1   1   3   3   0   1   0   0   2   2   0  86   2]\n",
      " [ 11   5  23   3   4   1  24  14   9   8  37   0   1 714]]\n"
     ]
    }
   ],
   "source": [
    "predictions = model.predict(valid_gen)\n",
    "y_pred = np.argmax(predictions, axis=1)\n",
    "print('Confusion Matrix')\n",
    "print(confusion_matrix(valid_gen.classes, y_pred))"
   ]
  },
  {
   "cell_type": "code",
   "execution_count": 34,
   "id": "e287f3a7-5d53-485c-9cd1-958452303333",
   "metadata": {},
   "outputs": [
    {
     "name": "stdout",
     "output_type": "stream",
     "text": [
      "Confusion Matrix\n",
      "[[109   0   0   0   9   0   4   9   3   1   4   0   0  10]\n",
      " [  0  57   1   0   2   0   0   8   2   0   0   0   1   0]\n",
      " [  0   0  60   0   7   1   1  10   0   0   4   0   0   5]\n",
      " [  0   0   0 172   0   0   0   0   0   0   0   0   9   0]\n",
      " [  0   0   0   0 202   0   0   2   6   0   1   0   7   1]\n",
      " [  0   0   0   5   0 229   3   8  11   0   1   0   0   6]\n",
      " [  0   0   2   1   1   1 135   5   0   0   0   0   0   2]\n",
      " [  0   0   0   0   1   2   0 110   1   0   0   1   0   0]\n",
      " [  0   0   0   0   0   0   0   0  96   0   0   0   7   5]\n",
      " [  0   0   0   0   1   0   0   0   2  34   0   0   2   1]\n",
      " [  1   1   0   1   0   0   0   1  14   0 211   0   0  14]\n",
      " [  0   0   0   5   0   0   0   1   1   0   0  78   0   2]\n",
      " [  0   0   0   0   9   0   0   5   4   2   1   0  79   1]\n",
      " [  2   0   0   3  24   4   0   3  56   1   1   0   6 754]]\n"
     ]
    }
   ],
   "source": [
    "predictions = model.predict(valid_gen)\n",
    "y_pred = np.argmax(predictions, axis=1)\n",
    "print('Confusion Matrix')\n",
    "print(confusion_matrix(valid_gen.classes, y_pred))"
   ]
  },
  {
   "cell_type": "code",
   "execution_count": 35,
   "id": "55e4128e-6213-4a6a-973e-343d21734447",
   "metadata": {},
   "outputs": [
    {
     "name": "stdout",
     "output_type": "stream",
     "text": [
      "Accuracy: 0.8725\n",
      "Precision: 0.8698\n",
      "Recall: 0.8574\n",
      "F1: 0.8532\n"
     ]
    },
    {
     "data": {
      "image/png": "[encoded data removed]",
      "text/plain": [
       "<Figure size 800x600 with 2 Axes>"
      ]
     },
     "metadata": {},
     "output_type": "display_data"
    }
   ],
   "source": [
    "# Compute the confusion matrix\n",
    "cm = confusion_matrix(valid_gen.classes, np.argmax(predictions, axis=-1))\n",
    "\n",
    "#Compute the classification metrics\n",
    "accuracy = accuracy_score(valid_gen.classes, np.argmax(predictions, axis=-1))\n",
    "precision = precision_score(valid_gen.classes, np.argmax(predictions, axis=-1), average='macro')\n",
    "recall = recall_score(valid_gen.classes, np.argmax(predictions, axis=-1), average='macro')\n",
    "f1 = f1_score(valid_gen.classes, np.argmax(predictions, axis=-1), average='macro')\n",
    "print('Accuracy:',accuracy.round(4))\n",
    "print('Precision:',precision.round(4))\n",
    "print('Recall:',recall.round(4))\n",
    "print('F1:',f1.round(4))\n",
    "\n",
    "# Plot the confusion matrix\n",
    "plt.figure(figsize=(8,6))\n",
    "sns.heatmap(cm.T, xticklabels=list(valid_gen.class_indices), yticklabels=list(valid_gen.class_indices))\n",
    "plt.xlabel('True labels')\n",
    "plt.ylabel('Predicted labels')\n",
    "plt.show()"
   ]
  },
  {
   "cell_type": "code",
   "execution_count": null,
   "id": "ccbfea68-581a-4852-8e6d-41cb9f0d34dd",
   "metadata": {
    "collapsed": true,
    "jupyter": {
     "outputs_hidden": true
    },
    "tags": []
   },
   "outputs": [
    {
     "ename": "NameError",
     "evalue": "name 'X' is not defined",
     "output_type": "error",
     "traceback": [
      "\u001b[0;31m---------------------------------------------------------------------------\u001b[0m",
      "\u001b[0;31mNameError\u001b[0m                                 Traceback (most recent call last)",
      "\u001b[0;32m<ipython-input-47-b4180b7044ae>\u001b[0m in \u001b[0;36m<module>\u001b[0;34m\u001b[0m\n\u001b[1;32m     12\u001b[0m \u001b[0;34m\u001b[0m\u001b[0m\n\u001b[1;32m     13\u001b[0m     \u001b[0mnewImage\u001b[0m \u001b[0;34m=\u001b[0m \u001b[0maug_test_data_gen\u001b[0m\u001b[0;34m.\u001b[0m\u001b[0mapply_transform\u001b[0m\u001b[0;34m\u001b[0m\u001b[0;34m\u001b[0m\u001b[0m\n\u001b[0;32m---> 14\u001b[0;31m     \u001b[0mpreds\u001b[0m \u001b[0;34m=\u001b[0m \u001b[0mmodel\u001b[0m\u001b[0;34m.\u001b[0m\u001b[0mpredict\u001b[0m\u001b[0;34m(\u001b[0m\u001b[0mX\u001b[0m\u001b[0;34m)\u001b[0m\u001b[0;34m\u001b[0m\u001b[0;34m\u001b[0m\u001b[0m\n\u001b[0m\u001b[1;32m     15\u001b[0m     \u001b[0mprint\u001b[0m\u001b[0;34m(\u001b[0m\u001b[0;34m'Before '\u001b[0m\u001b[0;34m,\u001b[0m \u001b[0mpreds\u001b[0m\u001b[0;34m.\u001b[0m\u001b[0mshape\u001b[0m\u001b[0;34m)\u001b[0m\u001b[0;34m\u001b[0m\u001b[0;34m\u001b[0m\u001b[0m\n\u001b[1;32m     16\u001b[0m     \u001b[0mpreds_tta\u001b[0m\u001b[0;34m.\u001b[0m\u001b[0mappend\u001b[0m\u001b[0;34m(\u001b[0m\u001b[0mpreds\u001b[0m\u001b[0;34m)\u001b[0m\u001b[0;34m\u001b[0m\u001b[0;34m\u001b[0m\u001b[0m\n",
      "\u001b[0;31mNameError\u001b[0m: name 'X' is not defined"
     ]
    }
   ],
   "source": [
    "from tensorflow.keras.preprocessing.image import ImageDataGenerator\n",
    "\n",
    "tta_steps = 5\n",
    "preds_tta = []\n",
    "for i in range(tta_steps):\n",
    "    aug_test_data_gen = ImageDataGenerator(rotation_range=30,\n",
    "                                           height_shift_range=50,\n",
    "                                           width_shift_range=50,\n",
    "                                           zoom_range=0.3,\n",
    "                                           horizontal_flip=True,\n",
    "                                           vertical_flip=True, \n",
    "                                           fill_mode='reflect',\n",
    "                                           rescale=1/255.)\n",
    "    \n",
    "    gen = ImageDataGenerator(fill_mode='constant', cval=0.)\n",
    "\n",
    "    newX = gen.apply_transform(X, aug_test_data_gen)\n",
    "    preds = model.predict(newX)\n",
    "    #print('Before ', preds.shape)\n",
    "    preds_tta.append(preds)\n",
    "    #print(i,  len(preds_tta))\n",
    "final_pred = np.mean(preds_tta, axis=0)"
   ]
  },
  {
   "cell_type": "code",
   "execution_count": null,
   "id": "9933ad4c-b524-422d-b981-17d7158d4e7e",
   "metadata": {},
   "outputs": [],
   "source": []
  },
  {
   "cell_type": "code",
   "execution_count": 49,
   "id": "5228fddb-56ca-409f-9d20-3bf649601f4d",
   "metadata": {},
   "outputs": [
    {
     "name": "stderr",
     "output_type": "stream",
     "text": [
      "100%|██████████| 5/5 [01:02<00:00, 12.56s/it]\n"
     ]
    }
   ],
   "source": [
    "tta_steps = 5\n",
    "preds_tta = []\n",
    "for i in tqdm(range(tta_steps)):\n",
    "    preds = model.predict(valid_gen)\n",
    "    #     print('Before ', preds.shape)\n",
    "    preds_tta.append(preds)\n",
    "    #     print(i,  len(preds_tta))"
   ]
  },
  {
   "cell_type": "code",
   "execution_count": 25,
   "id": "feba18ca-feb2-4ed2-8e24-55a3d5434e2f",
   "metadata": {},
   "outputs": [
    {
     "data": {
      "text/plain": [
       "(1779, 14)"
      ]
     },
     "execution_count": 25,
     "metadata": {},
     "output_type": "execute_result"
    }
   ],
   "source": [
    "final_pred = np.mean(preds_tta, axis=0)\n",
    "predicted_class_indices = np.argmax(final_pred, axis=1)\n",
    "final_pred.shape"
   ]
  },
  {
   "cell_type": "code",
   "execution_count": 27,
   "id": "5f038df0-c954-404e-8218-b07539b5650b",
   "metadata": {},
   "outputs": [
    {
     "data": {
      "text/plain": [
       "(1779, 14)"
      ]
     },
     "execution_count": 27,
     "metadata": {},
     "output_type": "execute_result"
    }
   ],
   "source": [
    "# Predict the test set with the CNN\n",
    "predictions = model.predict(valid_gen)\n",
    "predictions.shape"
   ]
  },
  {
   "cell_type": "code",
   "execution_count": 53,
   "id": "74745f3c-1d61-473e-900b-f141f1c9653b",
   "metadata": {},
   "outputs": [
    {
     "ename": "NameError",
     "evalue": "name 'final_pred' is not defined",
     "output_type": "error",
     "traceback": [
      "\u001b[0;31m---------------------------------------------------------------------------\u001b[0m",
      "\u001b[0;31mNameError\u001b[0m                                 Traceback (most recent call last)",
      "\u001b[0;32m<ipython-input-53-2ce6d8d7832e>\u001b[0m in \u001b[0;36m<module>\u001b[0;34m\u001b[0m\n\u001b[1;32m      1\u001b[0m \u001b[0;31m# Compute the confusion matrix\u001b[0m\u001b[0;34m\u001b[0m\u001b[0;34m\u001b[0m\u001b[0;34m\u001b[0m\u001b[0m\n\u001b[0;32m----> 2\u001b[0;31m \u001b[0mcm\u001b[0m \u001b[0;34m=\u001b[0m \u001b[0mconfusion_matrix\u001b[0m\u001b[0;34m(\u001b[0m\u001b[0mvalid_gen\u001b[0m\u001b[0;34m.\u001b[0m\u001b[0mclasses\u001b[0m\u001b[0;34m,\u001b[0m \u001b[0mnp\u001b[0m\u001b[0;34m.\u001b[0m\u001b[0margmax\u001b[0m\u001b[0;34m(\u001b[0m\u001b[0mfinal_pred\u001b[0m\u001b[0;34m,\u001b[0m \u001b[0maxis\u001b[0m\u001b[0;34m=\u001b[0m\u001b[0;34m-\u001b[0m\u001b[0;36m1\u001b[0m\u001b[0;34m)\u001b[0m\u001b[0;34m)\u001b[0m\u001b[0;34m\u001b[0m\u001b[0;34m\u001b[0m\u001b[0m\n\u001b[0m\u001b[1;32m      3\u001b[0m \u001b[0;34m\u001b[0m\u001b[0m\n\u001b[1;32m      4\u001b[0m \u001b[0;31m#Compute the classification metrics\u001b[0m\u001b[0;34m\u001b[0m\u001b[0;34m\u001b[0m\u001b[0;34m\u001b[0m\u001b[0m\n\u001b[1;32m      5\u001b[0m \u001b[0maccuracy\u001b[0m \u001b[0;34m=\u001b[0m \u001b[0maccuracy_score\u001b[0m\u001b[0;34m(\u001b[0m\u001b[0mvalid_gen\u001b[0m\u001b[0;34m.\u001b[0m\u001b[0mclasses\u001b[0m\u001b[0;34m,\u001b[0m \u001b[0mnp\u001b[0m\u001b[0;34m.\u001b[0m\u001b[0margmax\u001b[0m\u001b[0;34m(\u001b[0m\u001b[0mfinal_pred\u001b[0m\u001b[0;34m,\u001b[0m \u001b[0maxis\u001b[0m\u001b[0;34m=\u001b[0m\u001b[0;34m-\u001b[0m\u001b[0;36m1\u001b[0m\u001b[0;34m)\u001b[0m\u001b[0;34m)\u001b[0m\u001b[0;34m\u001b[0m\u001b[0;34m\u001b[0m\u001b[0m\n",
      "\u001b[0;31mNameError\u001b[0m: name 'final_pred' is not defined"
     ]
    }
   ],
   "source": [
    "# Compute the confusion matrix\n",
    "cm = confusion_matrix(valid_gen.classes, np.argmax(final_pred, axis=-1))\n",
    "\n",
    "#Compute the classification metrics\n",
    "accuracy = accuracy_score(valid_gen.classes, np.argmax(final_pred, axis=-1))\n",
    "precision = precision_score(valid_gen.classes, np.argmax(final_pred, axis=-1), average='macro')\n",
    "recall = recall_score(valid_gen.classes, np.argmax(final_pred, axis=-1), average='macro')\n",
    "f1 = f1_score(valid_gen.classes, np.argmax(final_pred, axis=-1), average='macro')\n",
    "print('Accuracy:',accuracy.round(4))\n",
    "print('Precision:',precision.round(4))\n",
    "print('Recall:',recall.round(4))\n",
    "print('F1:',f1.round(4))\n",
    "\n",
    "# Plot the confusion matrix\n",
    "plt.figure(figsize=(8,6))\n",
    "sns.heatmap(cm.T, xticklabels=list(valid_gen.class_indices), yticklabels=list(valid_gen.class_indices))\n",
    "plt.xlabel('True labels')\n",
    "plt.ylabel('Predicted labels')\n",
    "plt.show()"
   ]
  },
  {
   "cell_type": "code",
   "execution_count": 31,
   "id": "c060c789-9010-4d55-ac0a-cef0920393d5",
   "metadata": {
    "jupyter": {
     "source_hidden": true
    },
    "tags": []
   },
   "outputs": [
    {
     "name": "stdout",
     "output_type": "stream",
     "text": [
      "Accuracy: 0.9567\n",
      "Precision: 0.9522\n",
      "Recall: 0.9469\n",
      "F1: 0.9489\n"
     ]
    },
    {
     "data": {
      "image/png": "[encoded data removed]",
      "text/plain": [
       "<Figure size 800x600 with 2 Axes>"
      ]
     },
     "metadata": {},
     "output_type": "display_data"
    }
   ],
   "source": [
    "# Compute the confusion matrix\n",
    "cm = confusion_matrix(valid_gen.classes, np.argmax(predictions, axis=-1))\n",
    "\n",
    "#Compute the classification metrics\n",
    "accuracy = accuracy_score(valid_gen.classes, np.argmax(predictions, axis=-1))\n",
    "precision = precision_score(valid_gen.classes, np.argmax(predictions, axis=-1), average='macro')\n",
    "recall = recall_score(valid_gen.classes, np.argmax(predictions, axis=-1), average='macro')\n",
    "f1 = f1_score(valid_gen.classes, np.argmax(predictions, axis=-1), average='macro')\n",
    "print('Accuracy:',accuracy.round(4))\n",
    "print('Precision:',precision.round(4))\n",
    "print('Recall:',recall.round(4))\n",
    "print('F1:',f1.round(4))\n",
    "\n",
    "# Plot the confusion matrix\n",
    "plt.figure(figsize=(8,6))\n",
    "sns.heatmap(cm.T, xticklabels=list(valid_gen.class_indices), yticklabels=list(valid_gen.class_indices))\n",
    "plt.xlabel('True labels')\n",
    "plt.ylabel('Predicted labels')\n",
    "plt.show()"
   ]
  },
  {
   "cell_type": "code",
   "execution_count": 15,
   "id": "6326332b-65b3-4496-99fb-cada8670ecf6",
   "metadata": {},
   "outputs": [
    {
     "name": "stdout",
     "output_type": "stream",
     "text": [
      "/Users/irfanmasudi/ANNDL/Challenge/datasets/train\n"
     ]
    }
   ],
   "source": [
    "%cd /Users/irfanmasudi/ANNDL/Challenge/datasets/train"
   ]
  },
  {
   "cell_type": "code",
   "execution_count": 16,
   "id": "8b341281-be62-4515-a790-dc30127a2dc1",
   "metadata": {},
   "outputs": [
    {
     "data": {
      "text/html": [
       "<div>\n",
       "<style scoped>\n",
       "    .dataframe tbody tr th:only-of-type {\n",
       "        vertical-align: middle;\n",
       "    }\n",
       "\n",
       "    .dataframe tbody tr th {\n",
       "        vertical-align: top;\n",
       "    }\n",
       "\n",
       "    .dataframe thead th {\n",
       "        text-align: right;\n",
       "    }\n",
       "</style>\n",
       "<table border=\"1\" class=\"dataframe\">\n",
       "  <thead>\n",
       "    <tr style=\"text-align: right;\">\n",
       "      <th></th>\n",
       "      <th>class</th>\n",
       "      <th>count</th>\n",
       "    </tr>\n",
       "  </thead>\n",
       "  <tbody>\n",
       "    <tr>\n",
       "      <th>0</th>\n",
       "      <td>Apple</td>\n",
       "      <td>889</td>\n",
       "    </tr>\n",
       "    <tr>\n",
       "      <th>1</th>\n",
       "      <td>Blueberry</td>\n",
       "      <td>420</td>\n",
       "    </tr>\n",
       "    <tr>\n",
       "      <th>2</th>\n",
       "      <td>Cherry</td>\n",
       "      <td>524</td>\n",
       "    </tr>\n",
       "    <tr>\n",
       "      <th>3</th>\n",
       "      <td>Corn</td>\n",
       "      <td>1085</td>\n",
       "    </tr>\n",
       "    <tr>\n",
       "      <th>4</th>\n",
       "      <td>Grape</td>\n",
       "      <td>1312</td>\n",
       "    </tr>\n",
       "    <tr>\n",
       "      <th>5</th>\n",
       "      <td>Orange</td>\n",
       "      <td>1573</td>\n",
       "    </tr>\n",
       "    <tr>\n",
       "      <th>6</th>\n",
       "      <td>Peach</td>\n",
       "      <td>879</td>\n",
       "    </tr>\n",
       "    <tr>\n",
       "      <th>7</th>\n",
       "      <td>Pepper</td>\n",
       "      <td>688</td>\n",
       "    </tr>\n",
       "    <tr>\n",
       "      <th>8</th>\n",
       "      <td>Potato</td>\n",
       "      <td>644</td>\n",
       "    </tr>\n",
       "    <tr>\n",
       "      <th>9</th>\n",
       "      <td>Raspberry</td>\n",
       "      <td>237</td>\n",
       "    </tr>\n",
       "    <tr>\n",
       "      <th>10</th>\n",
       "      <td>Soybean</td>\n",
       "      <td>1454</td>\n",
       "    </tr>\n",
       "    <tr>\n",
       "      <th>11</th>\n",
       "      <td>Squash</td>\n",
       "      <td>516</td>\n",
       "    </tr>\n",
       "    <tr>\n",
       "      <th>12</th>\n",
       "      <td>Strawberry</td>\n",
       "      <td>605</td>\n",
       "    </tr>\n",
       "    <tr>\n",
       "      <th>13</th>\n",
       "      <td>Tomato</td>\n",
       "      <td>870</td>\n",
       "    </tr>\n",
       "  </tbody>\n",
       "</table>\n",
       "</div>"
      ],
      "text/plain": [
       "         class  count\n",
       "0        Apple    889\n",
       "1    Blueberry    420\n",
       "2       Cherry    524\n",
       "3         Corn   1085\n",
       "4        Grape   1312\n",
       "5       Orange   1573\n",
       "6        Peach    879\n",
       "7       Pepper    688\n",
       "8       Potato    644\n",
       "9    Raspberry    237\n",
       "10     Soybean   1454\n",
       "11      Squash    516\n",
       "12  Strawberry    605\n",
       "13      Tomato    870"
      ]
     },
     "execution_count": 16,
     "metadata": {},
     "output_type": "execute_result"
    }
   ],
   "source": [
    "sample = []\n",
    "for label in labels:\n",
    "    count = 0\n",
    "    dir = label\n",
    "    for path in os.listdir(dir):\n",
    "        if os.path.isfile(os.path.join(dir, path)):\n",
    "            count += 1\n",
    "    sample.append([label,count])\n",
    "sample = pd.DataFrame(sample)\n",
    "sample.columns=['class','count']\n",
    "sample"
   ]
  },
  {
   "cell_type": "code",
   "execution_count": 17,
   "id": "429fe06c-4714-4df3-af2f-a9796ae5fefe",
   "metadata": {},
   "outputs": [
    {
     "data": {
      "image/png": "[encoded data removed]",
      "text/plain": [
       "<Figure size 640x480 with 1 Axes>"
      ]
     },
     "metadata": {},
     "output_type": "display_data"
    }
   ],
   "source": [
    "sample.plot(x='class', kind='bar')\n",
    "plt.show()"
   ]
  },
  {
   "cell_type": "code",
   "execution_count": 32,
   "id": "8973bcc0-5d9e-4c14-8997-92b8cf23c9c7",
   "metadata": {},
   "outputs": [
    {
     "name": "stdout",
     "output_type": "stream",
     "text": [
      "Confusion Matrix\n",
      "[[ 83   1   1   0   2   1   0   3   0   0   2   1   1   4]\n",
      " [  0  46   1   0   0   0   0   0   0   0   0   0   0   0]\n",
      " [  0   0  56   0   0   0   0   1   0   0   1   0   0   1]\n",
      " [  3   0   0 116   0   0   0   0   0   0   0   1   0   1]\n",
      " [  0   0   2   0 138   0   0   0   1   0   0   1   1   3]\n",
      " [  0   1   2   0   0 168   0   0   0   0   1   0   0   3]\n",
      " [  1   1   0   0   0   0  89   4   0   0   0   0   0   3]\n",
      " [  1   0   0   0   0   1   0  73   0   0   1   0   0   1]\n",
      " [  0   0   0   0   0   0   0   0  70   0   1   0   0   1]\n",
      " [  0   0   0   0   0   0   0   0   0  26   0   0   1   0]\n",
      " [  1   0   0   0   0   0   0   0   0   0 160   0   0   1]\n",
      " [  1   0   0   2   0   0   0   0   0   0   0  52   0   3]\n",
      " [  0   0   0   0   0   0   0   0   0   0   0   0  66   2]\n",
      " [  0   1   0   0   0   5   1   3   1   0   0   0   0 559]]\n"
     ]
    }
   ],
   "source": [
    "y_pred = np.argmax(predictions, axis=1)\n",
    "print('Confusion Matrix')\n",
    "print(confusion_matrix(valid_gen.classes, y_pred))"
   ]
  },
  {
   "cell_type": "code",
   "execution_count": null,
   "id": "fbf9465e-bc34-4398-aef3-b7c4f7b8f35a",
   "metadata": {},
   "outputs": [
    {
     "name": "stdout",
     "output_type": "stream",
     "text": [
      "Confusion Matrix\n",
      "[[ 90   0   2   0   1   0   0   3   0   0   0   1   0   2]\n",
      " [  0  47   0   0   0   0   0   0   0   0   0   0   0   0]\n",
      " [  0   0  57   0   0   0   0   0   0   0   1   0   0   1]\n",
      " [  1   1   0 119   0   0   0   0   0   0   0   0   0   0]\n",
      " [  0   0   0   0 141   0   0   0   1   0   0   1   2   1]\n",
      " [  0   1   0   0   0 173   0   1   0   0   0   0   0   0]\n",
      " [  0   0   0   0   0   0  94   1   0   0   0   0   0   3]\n",
      " [  0   0   0   0   0   0   0  73   0   0   2   0   0   2]\n",
      " [  0   0   0   0   0   0   0   0  68   0   3   0   0   1]\n",
      " [  0   0   0   0   0   0   0   0   0  27   0   0   0   0]\n",
      " [  1   0   0   0   0   0   0   0   0   0 160   0   0   1]\n",
      " [  0   0   0   2   1   0   0   0   0   0   0  52   0   3]\n",
      " [  0   0   0   0   1   0   0   0   0   0   0   0  66   1]\n",
      " [  0   0   0   0   0   0   0   0   1   0   0   0   0 569]]\n"
     ]
    }
   ],
   "source": [
    "y_pred = np.argmax(final_pred, axis=1)\n",
    "print('Confusion Matrix')\n",
    "print(confusion_matrix(valid_gen.classes, y_pred))"
   ]
  }
 ],
 "metadata": {
  "kernelspec": {
   "display_name": "Python 3.9 (tensorflow)",
   "language": "python",
   "name": "tensorflow"
  },
  "language_info": {
   "codemirror_mode": {
    "name": "ipython",
    "version": 3
   },
   "file_extension": ".py",
   "mimetype": "text/x-python",
   "name": "python",
   "nbconvert_exporter": "python",
   "pygments_lexer": "ipython3",
   "version": "3.9.5"
  }
 },
 "nbformat": 4,
 "nbformat_minor": 5
}

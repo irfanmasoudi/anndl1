{
 "cells": [
  {
   "cell_type": "code",
   "execution_count": 3,
   "id": "5654ed61-e81d-4eb7-941a-a8b5872e286e",
   "metadata": {},
   "outputs": [
    {
     "name": "stdout",
     "output_type": "stream",
     "text": [
      "2.6.0\n"
     ]
    }
   ],
   "source": [
    "import tensorflow as tf\n",
    "import numpy as np\n",
    "import os\n",
    "import random\n",
    "import pandas as pd\n",
    "import seaborn as sns\n",
    "import matplotlib as mpl\n",
    "import matplotlib.pyplot as plt\n",
    "from sklearn.model_selection import train_test_split\n",
    "from sklearn.metrics import accuracy_score, f1_score, precision_score, recall_score\n",
    "from sklearn.metrics import confusion_matrix\n",
    "from PIL import Image\n",
    "import splitfolders\n",
    "\n",
    "tfk = tf.keras\n",
    "tfkl = tf.keras.layers\n",
    "print(tf.__version__)"
   ]
  },
  {
   "cell_type": "code",
   "execution_count": 2,
   "id": "1b21f8bc-8851-4ef4-ba95-50abb2e16bb6",
   "metadata": {},
   "outputs": [
    {
     "data": {
      "text/plain": [
       "[name: \"/device:CPU:0\"\n",
       " device_type: \"CPU\"\n",
       " memory_limit: 268435456\n",
       " locality {\n",
       " }\n",
       " incarnation: 2823782852962170508,\n",
       " name: \"/device:GPU:0\"\n",
       " device_type: \"GPU\"\n",
       " locality {\n",
       "   bus_id: 1\n",
       " }\n",
       " incarnation: 16824638581818881479\n",
       " physical_device_desc: \"device: 0, name: METAL, pci bus id: <undefined>\"]"
      ]
     },
     "execution_count": 2,
     "metadata": {},
     "output_type": "execute_result"
    }
   ],
   "source": [
    "from tensorflow.python.client import device_lib\n",
    "device_lib.list_local_devices()"
   ]
  },
  {
   "cell_type": "code",
   "execution_count": 4,
   "id": "26a3d493-6a07-4cce-a5d4-c2d3d8140678",
   "metadata": {},
   "outputs": [],
   "source": [
    "# Random seed for reproducibility\n",
    "seed = 42\n",
    "\n",
    "random.seed(seed)\n",
    "os.environ['PYTHONHASHSEED'] = str(seed)\n",
    "np.random.seed(seed)\n",
    "tf.random.set_seed(seed)\n",
    "tf.compat.v1.set_random_seed(seed)"
   ]
  },
  {
   "cell_type": "code",
   "execution_count": 7,
   "id": "781fed21-ca52-40d0-a2c6-bfa060866145",
   "metadata": {},
   "outputs": [],
   "source": [
    "# To only split into training and validation set, set a tuple to `ratio`, i.e, `(.8, .2)`.\n",
    "splitfolders.ratio(\"training\", output=\"dataset\", seed=seed, ratio=(.8, .1, .1), group_prefix=None) # default values"
   ]
  },
  {
   "cell_type": "code",
   "execution_count": 8,
   "id": "997f5b41-482e-4730-a661-4484c19b3464",
   "metadata": {},
   "outputs": [],
   "source": [
    "# Dataset folders \n",
    "dataset_dir = 'dataset'\n",
    "training_dir = os.path.join(dataset_dir, 'trai')\n",
    "validation_dir = os.path.join(dataset_dir, 'val')\n",
    "test_dir = os.path.join(dataset_dir, 'test')"
   ]
  },
  {
   "cell_type": "code",
   "execution_count": null,
   "id": "2da8af89-890a-49d4-a583-65fb21489b6b",
   "metadata": {},
   "outputs": [],
   "source": [
    "# Plot example images from dataset\n",
    "labels = ['Apple',       # 0\n",
    "          'Blueberry',   # 1\n",
    "          'Cherry',      # 2\n",
    "          'Corn',        # 3\n",
    "          'Grape',       # 4\n",
    "          'Orange',      # 5\n",
    "          'Peach',       # 6\n",
    "          'Pepper',      # 7\n",
    "          'Potato',      # 8\n",
    "          'Raspberry',   # 9\n",
    "          'Soybean',     # 10\n",
    "          'Squash',      # 11\n",
    "          'Strawberry',  # 12\n",
    "          'Tomato']      # 13\n",
    "\n",
    "num_row = 7\n",
    "num_col = 3\n",
    "fig, axes = plt.subplots(num_row, num_col, figsize=(2*num_row,6*num_col))\n",
    "for i in range(num_row*num_col):\n",
    "    if i < 21:\n",
    "        class_imgs = next(os.walk('{}/training/{}/'.format(dataset_dir, labels[i])))[2]\n",
    "        class_img = class_imgs[0]\n",
    "        img = Image.open('{}/training/{}/{}'.format(dataset_dir, labels[i], class_img))\n",
    "        ax = axes[i//num_col, i%num_col]\n",
    "        ax.imshow(np.array(img))\n",
    "        ax.set_title('{}'.format(labels[i]))\n",
    "plt.tight_layout()\n",
    "plt.show()"
   ]
  }
 ],
 "metadata": {
  "kernelspec": {
   "display_name": "Python 3.9 (tensorflow)",
   "language": "python",
   "name": "tensorflow"
  },
  "language_info": {
   "codemirror_mode": {
    "name": "ipython",
    "version": 3
   },
   "file_extension": ".py",
   "mimetype": "text/x-python",
   "name": "python",
   "nbconvert_exporter": "python",
   "pygments_lexer": "ipython3",
   "version": "3.9.5"
  }
 },
 "nbformat": 4,
 "nbformat_minor": 5
}
